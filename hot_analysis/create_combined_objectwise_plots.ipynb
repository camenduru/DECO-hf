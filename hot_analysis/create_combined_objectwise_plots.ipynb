{
 "cells": [
  {
   "cell_type": "code",
   "execution_count": 22,
   "id": "1738c3a5",
   "metadata": {
    "scrolled": true
   },
   "outputs": [],
   "source": [
    "import os.path as osp\n",
    "import json\n",
    "import os\n",
    "\n",
    "version = '1'\n",
    "out_dir_hico = f'./filtered_data/v_{version}/hico'\n",
    "out_dir_vcoco = f'./filtered_data/v_{version}/vcoco'\n",
    "out_dir_phosa = f'./filtered_data/v_{version}/phosa_split'\n",
    "out_dir_behave = f'./filtered_data/v_{version}/behave_split'\n",
    "\n",
    "objectwise_img_dict_hico = osp.join(out_dir_hico, 'imgnames_per_object_dict.json')\n",
    "objectwise_img_dict_vcoco = osp.join(out_dir_vcoco, 'imgnames_per_object_dict.json')\n",
    "\n",
    "with open(objectwise_img_dict_hico, 'r') as fp:\n",
    "    objectwise_img_dict_hico = json.load(fp)\n",
    "with open(objectwise_img_dict_vcoco, 'r') as fp:\n",
    "    objectwise_img_dict_vcoco = json.load(fp)\n",
    "\n",
    "# sort the dictionary \n",
    "objectwise_img_names1 = dict(sorted(objectwise_img_dict_hico.items(), key=lambda x: len(x[1]), reverse=True))\n",
    "\n",
    "# # Extract object names and image counts\n",
    "# obj_names1 = list(objectwise_img_names_hico.keys())\n",
    "# print(sorted(obj_names1))\n",
    "# image_count1 = [len(objectwise_img_names_hico[obj]) for obj in objectwise_img_names_hico]\n",
    "# print(sum(image_count1))\n",
    "\n",
    "# sort the dictionary \n",
    "objectwise_img_names2 = dict(sorted(objectwise_img_dict_vcoco.items(), key=lambda x: len(x[1]), reverse=True))\n",
    "\n",
    "# # Extract object names and image counts\n",
    "# obj_names2 = list(objectwise_img_names_vcoco.keys())\n",
    "# print(sorted(obj_names2))\n",
    "# image_count2 = [len(objectwise_img_names_vcoco[obj]) for obj in objectwise_img_names_vcoco]\n",
    "# print(sum(image_count2))\n",
    "\n"
   ]
  },
  {
   "cell_type": "code",
   "execution_count": 18,
   "id": "2d6ad5ed",
   "metadata": {},
   "outputs": [
    {
     "name": "stdout",
     "output_type": "stream",
     "text": [
      "2119\n",
      "saved at ./filtered_data/v_1/phosa_split/imgnames_per_object_dict.json\n"
     ]
    }
   ],
   "source": [
    "# Extract image list for object in PHOSA\n",
    "def merge_dictionaries(dict1, dict2):\n",
    "    merged_dict = {}\n",
    "\n",
    "    # Merge values for common keys\n",
    "    for key in set(dict1.keys()) | set(dict2.keys()):\n",
    "        merged_dict[key] = list(set(dict1.get(key, [])) | set(dict2.get(key, [])))\n",
    "\n",
    "    return merged_dict\n",
    "\n",
    "def filter_dictionary(dictionary, keys):\n",
    "    filtered_dict = {key: dictionary[key] for key in keys if key in dictionary}\n",
    "    return filtered_dict\n",
    "\n",
    "phosa_object_names = [\"bat\", \"bench\", \"bicycle\", \"laptop\", \"motorcycle\", \"skateboard\", \"surfboard\", \"tennis\"]\n",
    "combined_objectwise_img_names = merge_dictionaries(objectwise_img_names1, objectwise_img_names2)\n",
    "phosa_objectwise_img_names = filter_dictionary(combined_objectwise_img_names, phosa_object_names)\n",
    "net_img_count = 0\n",
    "for v in phosa_objectwise_img_names.values():\n",
    "    net_img_count += len(v)\n",
    "print(net_img_count)\n",
    "# Save the object_wise dict\n",
    "os.makedirs(out_dir_phosa, exist_ok=True)\n",
    "out_path_phosa = osp.join(out_dir_phosa, 'imgnames_per_object_dict.json')\n",
    "with open(out_path_phosa, 'w') as fp:\n",
    "    json.dump(phosa_objectwise_img_names, fp)\n",
    "    print(f'saved at {out_path_phosa}')\n",
    "    \n",
    "    "
   ]
  },
  {
   "cell_type": "code",
   "execution_count": 23,
   "id": "3f2a5e62",
   "metadata": {},
   "outputs": [
    {
     "name": "stdout",
     "output_type": "stream",
     "text": [
      "saved at ./filtered_data/v_1/behave_split/imgnames_per_object_dict.json\n"
     ]
    }
   ],
   "source": [
    "# Extract image list for object in CHORE\n",
    "\n",
    "behave_object_names_original = [\"backpack\", \"basketball\", \"boxlarge\", \"boxlong\", \"boxmedium\", \"boxsmall\", \"boxtiny\", \"chairblack\", \"chairwood\", \"keyboard\", \"monitor\", \"plasticcontainer\", \"stool\", \"suitcase\", \"tablesmall\", \"tablesquare\", \"toolbox\", \"trashbin\", \"yogaball\", \"yogamat\"]\n",
    "behave_object_names_in_hot = [\"backpack\", \"chair\", \"keyboard\", \"suitcase\"]\n",
    "\n",
    "combined_objectwise_img_names = merge_dictionaries(objectwise_img_names1, objectwise_img_names2)\n",
    "behave_objectwise_img_names = filter_dictionary(combined_objectwise_img_names, behave_object_names_in_hot)\n",
    "net_img_count = 0\n",
    "for v in behave_objectwise_img_names.values():\n",
    "    net_img_count += len(v)\n",
    "\n",
    "# Save the object_wise dict\n",
    "os.makedirs(out_dir_behave, exist_ok=True)\n",
    "out_path_behave = osp.join(out_dir_behave, 'imgnames_per_object_dict.json')\n",
    "with open(out_path_behave, 'w') as fp:\n",
    "    json.dump(behave_objectwise_img_names, fp)\n",
    "    print(f'saved at {out_path_behave}')"
   ]
  },
  {
   "cell_type": "code",
   "execution_count": 3,
   "id": "730e9ac2",
   "metadata": {},
   "outputs": [
    {
     "ename": "ModuleNotFoundError",
     "evalue": "No module named 'seaborn'",
     "output_type": "error",
     "traceback": [
      "\u001B[0;31m---------------------------------------------------------------------------\u001B[0m",
      "\u001B[0;31mModuleNotFoundError\u001B[0m                       Traceback (most recent call last)",
      "Cell \u001B[0;32mIn[3], line 2\u001B[0m\n\u001B[1;32m      1\u001B[0m \u001B[38;5;28;01mimport\u001B[39;00m \u001B[38;5;21;01mmatplotlib\u001B[39;00m\u001B[38;5;21;01m.\u001B[39;00m\u001B[38;5;21;01mpyplot\u001B[39;00m \u001B[38;5;28;01mas\u001B[39;00m \u001B[38;5;21;01mplt\u001B[39;00m\n\u001B[0;32m----> 2\u001B[0m \u001B[38;5;28;01mimport\u001B[39;00m \u001B[38;5;21;01mseaborn\u001B[39;00m \u001B[38;5;28;01mas\u001B[39;00m \u001B[38;5;21;01msns\u001B[39;00m\n\u001B[1;32m      4\u001B[0m \u001B[38;5;66;03m# sort the dictionary \u001B[39;00m\n\u001B[1;32m      5\u001B[0m objectwise_img_names1 \u001B[38;5;241m=\u001B[39m \u001B[38;5;28mdict\u001B[39m(\u001B[38;5;28msorted\u001B[39m(objectwise_img_names1\u001B[38;5;241m.\u001B[39mitems(), key\u001B[38;5;241m=\u001B[39m\u001B[38;5;28;01mlambda\u001B[39;00m x: \u001B[38;5;28mlen\u001B[39m(x[\u001B[38;5;241m1\u001B[39m]), reverse\u001B[38;5;241m=\u001B[39m\u001B[38;5;28;01mTrue\u001B[39;00m))\n",
      "\u001B[0;31mModuleNotFoundError\u001B[0m: No module named 'seaborn'"
     ]
    }
   ],
   "source": [
    "import matplotlib.pyplot as plt\n",
    "import seaborn as sns\n",
    "\n",
    "# sort the dictionary \n",
    "objectwise_img_names1 = dict(sorted(objectwise_img_names1.items(), key=lambda x: len(x[1]), reverse=True))\n",
    "\n",
    "# Extract object names and image counts\n",
    "obj_names1 = list(objectwise_img_names1.keys())\n",
    "print(obj_names1)\n",
    "img_counts1 = [len(objectwise_img_names1[obj]) for obj in objectwise_img_names1]\n",
    "print(sum(img_counts1))\n",
    "\n",
    "# sort the dictionary \n",
    "objectwise_img_names2 = dict(sorted(objectwise_img_names2.items(), key=lambda x: len(x[1]), reverse=True))\n",
    "\n",
    "# Extract object names and image counts\n",
    "obj_names2 = list(objectwise_img_names2.keys())\n",
    "print(obj_names2)\n",
    "img_counts2 = [len(objectwise_img_names2[obj]) for obj in objectwise_img_names2]\n",
    "print(sum(img_counts2))\n",
    "\n",
    "# Create a figure with two subplots\n",
    "fig, axs = plt.subplots(nrows=2, sharex=True, figsize=(10, 8))\n",
    "\n",
    "# Plot the first graph in the first subplot\n",
    "sns.barplot(x=obj_names1, y=img_counts1, ax=axs[0])\n",
    "\n",
    "# Add y-axis label to the first subplot\n",
    "axs[0].set_ylabel('Number of Images')\n",
    "\n",
    "# Set the rotation and alignment of x-tick labels in the first subplot\n",
    "axs[0].tick_params(axis='x', rotation=45)\n",
    "\n",
    "# Plot the second graph in the second subplot\n",
    "sns.barplot(x=obj_names2, y=img_counts2, ax=axs[1])\n",
    "\n",
    "# Add x-axis and y-axis labels to the second subplot\n",
    "axs[1].set_xlabel('Object')\n",
    "axs[1].set_ylabel('Number of Images')\n",
    "\n",
    "# Set the rotation and alignment of x-tick labels in the second subplot\n",
    "axs[1].tick_params(axis='x', rotation=45)\n",
    "\n",
    "# Save the plot as a high-resolution image file\n",
    "out_path = osp.join(out_dir, 'image_per_object_category.png')\n",
    "plt.savefig(out_path, dpi=300)\n",
    "\n",
    "# Show the plot\n",
    "plt.show()\n",
    "\n"
   ]
  },
  {
   "cell_type": "code",
   "execution_count": 6,
   "id": "23c503dd",
   "metadata": {},
   "outputs": [
    {
     "name": "stderr",
     "output_type": "stream",
     "text": [
      "/tmp/ipykernel_135310/1442551168.py:22: UserWarning: FixedFormatter should only be used together with FixedLocator\n",
      "  ax.set_xticklabels(X1)\n"
     ]
    },
    {
     "data": {
      "image/png": "[encoded data removed]",
      "text/plain": [
       "<Figure size 1000x800 with 1 Axes>"
      ]
     },
     "metadata": {},
     "output_type": "display_data"
    }
   ],
   "source": [
    "import matplotlib\n",
    "import matplotlib.pyplot as plt\n",
    "import numpy as np\n",
    "import seaborn as sns\n",
    "\n",
    "# Create data\n",
    "X1 = ['A', 'B', 'C', 'D', 'E']\n",
    "Y1 = [10, 15, 20, 25, 30]\n",
    "Y2 = [20, 25, 30, 35, 40]\n",
    "\n",
    "# Set color scheme and font\n",
    "colors = sns.color_palette(\"Blues\", 2)\n",
    "\n",
    "# Create bar plot\n",
    "fig, ax = plt.subplots(figsize=(10, 8))\n",
    "ax.bar(X1, Y1, color=colors[0], edgecolor='white', linewidth=1)\n",
    "ax.bar(X1, Y2, bottom=Y1, color=colors[1], edgecolor='white', linewidth=1)\n",
    "\n",
    "# Set axis labels and ticks\n",
    "ax.set_xlabel('X1')\n",
    "ax.set_ylabel('Y')\n",
    "ax.set_xticklabels(X1)\n",
    "ax.tick_params(axis='both', which='major', labelsize=14)\n",
    "ax.grid(axis='y', alpha=0.4)\n",
    "\n",
    "# Add legend and title\n",
    "ax.legend(['Y1', 'Y2'], loc='upper left')\n",
    "ax.set_title('Vertical stacked bar graph of Y1 and Y2')\n",
    "\n",
    "# Save the graph as PDF or PNG\n",
    "plt.savefig('vertical_stacked_bar_graph.png', dpi=300, bbox_inches='tight')"
   ]
  },
  {
   "cell_type": "code",
   "execution_count": null,
   "id": "4c055ec7",
   "metadata": {},
   "outputs": [],
   "source": []
  }
 ],
 "metadata": {
  "kernelspec": {
   "display_name": "Python 3 (ipykernel)",
   "language": "python",
   "name": "python3"
  },
  "language_info": {
   "codemirror_mode": {
    "name": "ipython",
    "version": 3
   },
   "file_extension": ".py",
   "mimetype": "text/x-python",
   "name": "python",
   "nbconvert_exporter": "python",
   "pygments_lexer": "ipython3",
   "version": "3.8.5"
  }
 },
 "nbformat": 4,
 "nbformat_minor": 5
}
