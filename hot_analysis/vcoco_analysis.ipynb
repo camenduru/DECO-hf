{
 "cells": [
  {
   "cell_type": "code",
   "execution_count": 30,
   "metadata": {},
   "outputs": [],
   "source": [
    "import json\n",
    "import pandas as pd \n",
    "import ipdb\n",
    "import os\n",
    "import pickle as pkl\n",
    "import os.path as osp\n",
    "import numpy as np\n",
    "from PIL import Image"
   ]
  },
  {
   "cell_type": "code",
   "execution_count": 31,
   "metadata": {},
   "outputs": [
    {
     "name": "stdout",
     "output_type": "stream",
     "text": [
      "Total images found: 5459\n",
      "Images after KP filtering: 2386\n",
      "['vcoco_000000051899.jpg', 'vcoco_000000093127.jpg', 'vcoco_000000455665.jpg', 'vcoco_000000248389.jpg', 'vcoco_000000403947.jpg']\n"
     ]
    }
   ],
   "source": [
    "# Load Agniv VITpose-base hot dict\n",
    "filter_path = \"./agniv_pose_filter/hot_dict.pkl\"\n",
    "with open(filter_path, 'rb') as f:\n",
    "    pose_md_dict = pkl.load(f)\n",
    "    \n",
    "vcoco_dict = {}\n",
    "\n",
    "for k, v in pose_md_dict.items():\n",
    "    if 'vcoco' in k:\n",
    "        vcoco_dict[k] = v\n",
    "    \n",
    "print(f'Total images found: {len(vcoco_dict)}')\n",
    "\n",
    "# Filter out images with < 10 visible keypoints \n",
    "kp_thresh = 10\n",
    "\n",
    "filter_img_names = {}\n",
    "\n",
    "for imgname, kp_md in vcoco_dict.items():\n",
    "    if kp_md == 0:\n",
    "        continue\n",
    "    if kp_md[\"num_persons\"] == 1 and kp_md[\"num_kpt\"][0.5][0] > kp_thresh:\n",
    "        filter_img_names[imgname] = kp_md[\"num_kpt\"][0.5][0]\n",
    "        \n",
    "print(f'Images after KP filtering: {len(filter_img_names)}')\n",
    "\n",
    "print(list(filter_img_names.keys())[:5])"
   ]
  },
  {
   "cell_type": "code",
   "execution_count": 35,
   "metadata": {},
   "outputs": [
    {
     "name": "stdout",
     "output_type": "stream",
     "text": [
      "loading annotations into memory...\n",
      "Done (t=1.30s)\n",
      "creating index...\n",
      "index created!\n",
      "Final number of images 2368\n"
     ]
    }
   ],
   "source": [
    "from pycocotools.coco import COCO\n",
    "version = '1'\n",
    "out_dir = f'./filtered_data/v_{version}/vcoco'\n",
    "os.makedirs(out_dir, exist_ok=True)\n",
    "\n",
    "coco_dir = '/is/cluster/work/stripathi/pycharm_remote/v-coco/data'\n",
    "coco = COCO(os.path.join(coco_dir, 'instances_vcoco_all_2014.json'))\n",
    "\n",
    "imgwise_object_names = {}\n",
    "img_dir = '/ps/project/datasets/HOT/Contact_Data/images/training/'\n",
    "\n",
    "bad_object_names = ['bird', 'cat', 'dog', 'horse', 'sheep', 'cow', \n",
    "                    'elephant', 'bear', 'zebra', 'giraffe']\n",
    "\n",
    "# # Get all coco objects\n",
    "# count = 0\n",
    "# for id in range(91):\n",
    "#     try: \n",
    "#         print(coco.loadCats(id))\n",
    "#         count += 1\n",
    "#     except:\n",
    "#         print(f'ID:{id} does not exist')\n",
    "#         continue\n",
    "# print(count)\n",
    "\n",
    "objectwise_img_names = {}\n",
    "for img_name in filter_img_names.keys():\n",
    "    img_id = int(os.path.splitext(img_name.split('_')[-1])[0])\n",
    "    ann_ids = coco.getAnnIds([img_id])\n",
    "    anns = coco.loadAnns(ann_ids)\n",
    "    object_list = []\n",
    "    for ann in anns:\n",
    "        object_cat = coco.loadCats(ann[\"category_id\"])\n",
    "        if len(object_cat) > 1:\n",
    "            ipdb.set_trace()\n",
    "        object_name = object_cat[0]['name']\n",
    "        if object_name in bad_object_names:\n",
    "            continue\n",
    "        if object_name != 'person':\n",
    "            object_list.append(object_name)\n",
    "    if len(object_list) != 0:\n",
    "        imgwise_object_names[img_name] = list(set(object_list))\n",
    "        \n",
    "    for obj_name in set(object_list):\n",
    "        objectwise_img_names.setdefault(obj_name,[]).append(img_name)\n",
    "        \n",
    "#         # Visualize images \n",
    "#         print(img_name)\n",
    "#         print(list(set(object_list)))\n",
    "#         img = Image.open(osp.join(img_dir,img_name))\n",
    "#         display(img)\n",
    "    \n",
    "    \n",
    "print(f'Final number of images {len(imgwise_object_names)}')\n",
    "    \n"
   ]
  },
  {
   "cell_type": "code",
   "execution_count": 36,
   "metadata": {
    "scrolled": true
   },
   "outputs": [
    {
     "name": "stdout",
     "output_type": "stream",
     "text": [
      "saved at ./filtered_data/v_1/vcoco/object_per_image_dict.json\n",
      "saved at ./filtered_data/v_1/vcoco/vcoco_imglist_all_170223.txt\n",
      "saved at ./filtered_data/v_1/vcoco/imgnames_per_object_dict.json\n"
     ]
    }
   ],
   "source": [
    "# Save the imagewise_object dict\n",
    "out_path = osp.join(out_dir, 'object_per_image_dict.json')\n",
    "with open(out_path, 'w') as fp:\n",
    "    json.dump(imgwise_object_names, fp)\n",
    "    print(f'saved at {out_path}')\n",
    "    \n",
    "# save image_list \n",
    "out_path = osp.join(out_dir, 'vcoco_imglist_all_170223.txt')\n",
    "with open(out_path, 'w') as f:\n",
    "    f.write('\\n'.join(imgwise_object_names.keys()))\n",
    "    print(f'saved at {out_path}')\n",
    "\n",
    "\n",
    "# Save the object_wise dict\n",
    "out_path = osp.join(out_dir, 'imgnames_per_object_dict.json')\n",
    "with open(out_path, 'w') as fp:\n",
    "    json.dump(objectwise_img_names, fp)\n",
    "    print(f'saved at {out_path}')\n",
    "\n",
    "    \n",
    "\n",
    "    "
   ]
  },
  {
   "cell_type": "code",
   "execution_count": 37,
   "metadata": {
    "scrolled": false
   },
   "outputs": [
    {
     "name": "stdout",
     "output_type": "stream",
     "text": [
      "5072\n"
     ]
    },
    {
     "data": {
      "image/png": "[encoded data removed]",
      "text/plain": [
       "<Figure size 432x288 with 1 Axes>"
      ]
     },
     "metadata": {
      "needs_background": "light"
     },
     "output_type": "display_data"
    }
   ],
   "source": [
    "import matplotlib.pyplot as plt\n",
    "import seaborn as sns\n",
    "\n",
    "# sort the dictionary \n",
    "objectwise_img_names = dict(sorted(objectwise_img_names.items(), key=lambda x: len(x[1]), reverse=True))\n",
    "\n",
    "# Extract object names and image counts\n",
    "obj_names = list(objectwise_img_names.keys())\n",
    "img_counts = [len(objectwise_img_names[obj]) for obj in objectwise_img_names]\n",
    "print(sum(img_counts))\n",
    "\n",
    "# Create bar plot\n",
    "sns.barplot(x=obj_names, y=img_counts)\n",
    "\n",
    "# Add x-axis and y-axis labels\n",
    "plt.xlabel('Object')\n",
    "plt.ylabel('Number of Images')\n",
    "\n",
    "plt.xticks(rotation=45, ha='right', fontsize=3)\n",
    "\n",
    "# Save the plot as a high-resolution image file\n",
    "out_path = osp.join(out_dir, 'image_per_object_category.png')\n",
    "plt.savefig(out_path, dpi=300)\n",
    "\n",
    "# Show plot\n",
    "plt.show()"
   ]
  },
  {
   "cell_type": "code",
   "execution_count": null,
   "metadata": {},
   "outputs": [],
   "source": [
    "\n",
    "    "
   ]
  },
  {
   "cell_type": "code",
   "execution_count": null,
   "metadata": {},
   "outputs": [],
   "source": []
  }
 ],
 "metadata": {
  "kernelspec": {
   "display_name": "Python 3",
   "language": "python",
   "name": "python3"
  },
  "language_info": {
   "codemirror_mode": {
    "name": "ipython",
    "version": 3
   },
   "file_extension": ".py",
   "mimetype": "text/x-python",
   "name": "python",
   "nbconvert_exporter": "python",
   "pygments_lexer": "ipython3",
   "version": "3.8.5"
  }
 },
 "nbformat": 4,
 "nbformat_minor": 4
}
